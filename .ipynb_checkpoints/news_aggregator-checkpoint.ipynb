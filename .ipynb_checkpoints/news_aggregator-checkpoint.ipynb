{
 "cells": [
  {
   "cell_type": "code",
   "execution_count": 1,
   "metadata": {
    "collapsed": false,
    "slideshow": {
     "slide_type": "-"
    }
   },
   "outputs": [
    {
     "name": "stderr",
     "output_type": "stream",
     "text": [
      "/home/vagrant/miniconda3/envs/tiger-python/lib/python3.5/site-packages/matplotlib/font_manager.py:273: UserWarning: Matplotlib is building the font cache using fc-list. This may take a moment.\n",
      "  warnings.warn('Matplotlib is building the font cache using fc-list. This may take a moment.')\n",
      "/home/vagrant/miniconda3/envs/tiger-python/lib/python3.5/site-packages/matplotlib/font_manager.py:273: UserWarning: Matplotlib is building the font cache using fc-list. This may take a moment.\n",
      "  warnings.warn('Matplotlib is building the font cache using fc-list. This may take a moment.')\n"
     ]
    }
   ],
   "source": [
    "import pymongo\n",
    "from wordcloud import WordCloud\n",
    "import matplotlib.pyplot as plt"
   ]
  },
  {
   "cell_type": "code",
   "execution_count": 2,
   "metadata": {
    "collapsed": true
   },
   "outputs": [],
   "source": [
    "mongo_connection = pymongo.MongoClient(\"localhost\", 27017)\n",
    "news_aggreg = mongo_connection.local.news_aggregator\n",
    "# Loading our whole database to\n",
    "bundle_list = list(\n",
    "    news_aggreg.aggregate([\n",
    "            {\"$match\" : {\"_id\" : {\"$exists\" : True}}}\n",
    "        ],allowDiskUse=True)\n",
    ")"
   ]
  },
  {
   "cell_type": "code",
   "execution_count": 3,
   "metadata": {
    "collapsed": false
   },
   "outputs": [],
   "source": [
    "# Let's get the string for each category\n",
    "str_b, str_t, str_m, str_e = [\"\", \"\", \"\", \"\"]\n",
    "for doc in bundle_list:\n",
    "    cat = doc[\"category\"]\n",
    "    if cat == \"t\":\n",
    "        str_t += doc[\"title\"] + \" \"\n",
    "    elif cat == \"b\":\n",
    "        str_b += doc[\"title\"] + \" \"\n",
    "    elif cat == \"m\":\n",
    "        str_m += doc[\"title\"] + \" \"\n",
    "    else:\n",
    "        str_e += doc[\"title\"] + \" \""
   ]
  },
  {
   "cell_type": "code",
   "execution_count": 4,
   "metadata": {
    "collapsed": false
   },
   "outputs": [
    {
     "data": {
      "text/plain": [
       "<matplotlib.image.AxesImage at 0x7f6852ffcf98>"
      ]
     },
     "execution_count": 4,
     "metadata": {},
     "output_type": "execute_result"
    }
   ],
   "source": [
    "# Wordcloud for t category\n",
    "\n",
    "wordcloud = WordCloud().generate(str_t)\n",
    "plt.imshow(wordcloud)\n",
    "plt.axis(\"off\")\n",
    "plt.show()"
   ]
  },
  {
   "cell_type": "code",
   "execution_count": null,
   "metadata": {
    "collapsed": true
   },
   "outputs": [],
   "source": []
  }
 ],
 "metadata": {
  "kernelspec": {
   "display_name": "Python 3",
   "language": "python",
   "name": "python3"
  },
  "language_info": {
   "codemirror_mode": {
    "name": "ipython",
    "version": 3
   },
   "file_extension": ".py",
   "mimetype": "text/x-python",
   "name": "python",
   "nbconvert_exporter": "python",
   "pygments_lexer": "ipython3",
   "version": "3.5.2"
  }
 },
 "nbformat": 4,
 "nbformat_minor": 2
}
